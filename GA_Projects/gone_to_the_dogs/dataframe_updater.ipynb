{
 "cells": [
  {
   "cell_type": "markdown",
   "metadata": {},
   "source": [
    "# Dataframe Updater\n",
    "\n",
    "This notebook is a demonstration of the Data Engineering that needs to go into the main dataframe in order to update this as new information comes in.\n",
    "\n",
    "There are two main modes:\n",
    "\n",
    "- Updating the dataframe with the actual results once I have them\n",
    "- Inputting for the purposes of making predictions\n",
    "\n",
    "** A note on this.  It is by no means perfect and I am working in my spare time to fine tune this process.  However, this is an example of that way I go about solving this problem.  This is very \"code heavy\" but please feel free to contact me if you would require a more detailed explanation**\n",
    "\n",
    "** In addition, there are concerns over the intellectual property here so this worksheet is purely a demonstration of work that I have done in the past.  To validate this to an extent, I have run a model at the bottom and displayed the precision I can achieve for predicting the winners**"
   ]
  },
  {
   "cell_type": "code",
   "execution_count": 520,
   "metadata": {
    "collapsed": true
   },
   "outputs": [],
   "source": [
    "# Import Packages\n",
    "\n",
    "import pandas as pd\n",
    "import numpy as np\n",
    "\n",
    "from datetime import timedelta\n",
    "\n",
    "import matplotlib.pyplot as plt\n",
    "import seaborn as sns\n",
    "\n",
    "sns.set_style('whitegrid')\n",
    "plt.style.use('ggplot')\n",
    "\n",
    "%matplotlib inline\n",
    "%config InlineBackend.figure_format = 'retina'\n",
    "\n",
    "from sqlalchemy import create_engine\n",
    "engine = create_engine('postgresql://localhost:5432/danielpayne')"
   ]
  },
  {
   "cell_type": "code",
   "execution_count": null,
   "metadata": {
    "collapsed": true
   },
   "outputs": [],
   "source": [
    "crayford = pd.read_sql('SELECT * FROM crayford;', engine)"
   ]
  },
  {
   "cell_type": "code",
   "execution_count": 5,
   "metadata": {
    "collapsed": false
   },
   "outputs": [],
   "source": [
    "crayford = crayford.drop(['Unnamed: 0'], axis=1)"
   ]
  },
  {
   "cell_type": "markdown",
   "metadata": {},
   "source": [
    "## Now attempt to update the main dataframe row by row\n",
    "\n",
    "First I need to create the functions that can update my columns one row at a time. \n",
    "\n",
    "This means that I need to define these functions so that they will update each columns cell based on the name of the dog."
   ]
  },
  {
   "cell_type": "code",
   "execution_count": 907,
   "metadata": {
    "collapsed": false
   },
   "outputs": [],
   "source": [
    "# Save dog_name dictionary\n",
    "crayford_name_dict = {}\n",
    "for name in crayford.name.unique():\n",
    "    df = crayford.loc[crayford.name == name]\n",
    "    crayford_name_dict[name] = df"
   ]
  },
  {
   "cell_type": "code",
   "execution_count": 726,
   "metadata": {
    "collapsed": true
   },
   "outputs": [],
   "source": [
    "# Define a function for the average time per dog per distance column.  \n",
    "#Option to add an imputation in the future if needed\n",
    "\n",
    "\n",
    "time_over_dist = crayford.groupby(['distance', 'name']).mean().time\n",
    "\n",
    "def meantime_per_dog_over_dist(distance, name, imputation=0):\n",
    "    try:\n",
    "        return time_over_dist[distance, name]\n",
    "    except:\n",
    "        # Take the mean and add some time.  Crude imputation and fill for nan values\n",
    "        return time_over_dist[distance].mean() + imputation"
   ]
  },
  {
   "cell_type": "code",
   "execution_count": 727,
   "metadata": {
    "collapsed": true
   },
   "outputs": [],
   "source": [
    "# Groupby table\n",
    "grade_dist_ave_dog = crayford.groupby(['distance', 'grade', 'name']).mean().time\n",
    "\n",
    "# create function to look up this number\n",
    "def grade_dist_average_per_dog(distance, grade, name, imputation=0):\n",
    "    try:\n",
    "        return grade_dist_ave_dog[distance, grade, name]\n",
    "    except:\n",
    "        # Take the mean and add some time.  Crude imputation and fill for nan values\n",
    "        return grade_dist_ave_dog[distance, grade].mean() + imputation"
   ]
  },
  {
   "cell_type": "code",
   "execution_count": 93,
   "metadata": {
    "collapsed": true
   },
   "outputs": [],
   "source": [
    "# Define a function for this grade or a better one.  \n",
    "def better_or_equal_grade(grade):\n",
    "    special = [\"OR\", \"IV\", \"HP\", \"IT\", \"|\"]\n",
    "    letter = grade[0]\n",
    "\n",
    "    possible_grades = [grade]\n",
    "    \n",
    "    if grade not in special:\n",
    "        number = int(grade[1:])\n",
    "        for x in range(1, number):\n",
    "            possible_grades.append(letter + str(x))\n",
    "    \n",
    "    return possible_grades"
   ]
  },
  {
   "cell_type": "code",
   "execution_count": 728,
   "metadata": {
    "collapsed": true
   },
   "outputs": [],
   "source": [
    "# Create a function that gets the best time for each dog in grade for that race\n",
    "def dog_best_time(date_time, grade, name):\n",
    "    \n",
    "    dog_df = crayford_name_dict[name]\n",
    "    \n",
    "    # Looping over the last month\n",
    "    dog_df = dog_df.loc[(dog_df.date_time >= date_time - timedelta(days=31)) & \n",
    "                          (dog_df.date_time < date_time) & (dog_df.time > 0)]\n",
    "    min_time = dog_df[dog_df['grade'].isin(better_or_equal_grade(grade))]['time'].min()\n",
    "    return min_time"
   ]
  },
  {
   "cell_type": "code",
   "execution_count": 315,
   "metadata": {
    "collapsed": false
   },
   "outputs": [
    {
     "data": {
      "text/plain": [
       "15.693333333333333"
      ]
     },
     "execution_count": 315,
     "metadata": {},
     "output_type": "execute_result"
    }
   ],
   "source": [
    "# Write function to measure mean of last 3 race results returning a Series object\n",
    "def rolling_time(dist, name):\n",
    "    df = crayford_name_dict[name]\n",
    "    red_df = df.loc[df.distance == dist]\n",
    "    red_df['mean_time'] = red_df['time'].rolling(window = 3, center=False).mean()\n",
    "    try:\n",
    "        return red_df.mean_time.iloc[-2]\n",
    "    except:\n",
    "        pass\n",
    "\n",
    "mean_time(380, 'Sapphire Rose')"
   ]
  },
  {
   "cell_type": "code",
   "execution_count": 316,
   "metadata": {
    "collapsed": false
   },
   "outputs": [
    {
     "name": "stderr",
     "output_type": "stream",
     "text": [
      "/Users/danielpayne/Anaconda/anaconda/lib/python2.7/site-packages/ipykernel/__main__.py:5: FutureWarning: pd.expanding_mean is deprecated for Series and will be removed in a future version, replace with \n",
      "\tSeries.expanding(min_periods=1).mean()\n",
      "/Users/danielpayne/Anaconda/anaconda/lib/python2.7/site-packages/ipykernel/__main__.py:5: SettingWithCopyWarning: \n",
      "A value is trying to be set on a copy of a slice from a DataFrame.\n",
      "Try using .loc[row_indexer,col_indexer] = value instead\n",
      "\n",
      "See the caveats in the documentation: http://pandas.pydata.org/pandas-docs/stable/indexing.html#indexing-view-versus-copy\n"
     ]
    },
    {
     "data": {
      "text/plain": [
       "24.039999999999999"
      ]
     },
     "execution_count": 316,
     "metadata": {},
     "output_type": "execute_result"
    }
   ],
   "source": [
    "# Write function to measure mean of last n race results returning a Series object\n",
    "def exp_time(dist, name):\n",
    "    df = crayford_name_dict[name]\n",
    "    red_df = df.loc[(df.distance == dist) & (df.time != -1)]\n",
    "    red_df['exp_mean'] = pd.expanding_mean(red_df['time'])\n",
    "    try:\n",
    "        return red_df.exp_mean.iloc[-2]\n",
    "    except:\n",
    "        pass\n",
    "\n",
    "exp_time(380, 'Sapphire Rose')"
   ]
  },
  {
   "cell_type": "code",
   "execution_count": 185,
   "metadata": {
    "collapsed": true
   },
   "outputs": [],
   "source": [
    "# Write function to measure mean of last n race results \n",
    "def winning_form(dog_name, races):\n",
    "    df = crayford_name_dict[dog_name]\n",
    "    df['winning_form'] = df['winner'].rolling(window = races, center=False).mean()\n",
    "    if pd.isnull(df.winning_form.iloc[-2]):\n",
    "        return 0\n",
    "    else:\n",
    "        return df.winning_form.iloc[-2]"
   ]
  },
  {
   "cell_type": "code",
   "execution_count": 191,
   "metadata": {
    "collapsed": true
   },
   "outputs": [],
   "source": [
    "# Write function to measure mean of last n race results \n",
    "def positional_form_3(dog_name):\n",
    "    df = crayford_name_dict[dog_name]\n",
    "    df['pos_form_3'] = df['position'].rolling(window = 3, center=False).mean()\n",
    "    return df.pos_form_3.iloc[-2]"
   ]
  },
  {
   "cell_type": "code",
   "execution_count": 192,
   "metadata": {
    "collapsed": true
   },
   "outputs": [],
   "source": [
    "# Write function to measure mean of last n race results \n",
    "def positional_form_5(dog_name):\n",
    "    df = crayford_name_dict[dog_name]\n",
    "    df['pos_form_5'] = df['position'].rolling(window = 5, center=False).mean()\n",
    "    return df.pos_form_5.iloc[-2]"
   ]
  },
  {
   "cell_type": "code",
   "execution_count": 193,
   "metadata": {
    "collapsed": true
   },
   "outputs": [],
   "source": [
    "# Make function to measure trends\n",
    "def trend_describer(dog_name, column):\n",
    "    df = crayford_name_dict[dog_name]\n",
    "    trend = df[column].iloc[-1] - df[column].iloc[-2]\n",
    "        \n",
    "    return trend"
   ]
  },
  {
   "cell_type": "code",
   "execution_count": 202,
   "metadata": {
    "collapsed": true
   },
   "outputs": [],
   "source": [
    "# Write function to measure mean of last n race results \n",
    "def section_form(dog_name):\n",
    "    df = crayford_name_dict[dog_name]\n",
    "    df['sec_form_3'] = df['section_position'].rolling(window = 3, center=False).mean()\n",
    "    return df.sec_form_3.iloc[-2]"
   ]
  },
  {
   "cell_type": "code",
   "execution_count": 717,
   "metadata": {
    "collapsed": false
   },
   "outputs": [
    {
     "data": {
      "text/plain": [
       "{60.0: nan,\n",
       " 380.0: 24.247909609055192,\n",
       " 540.0: 34.81310871183925,\n",
       " 714.0: 46.56416949152544,\n",
       " 874.0: 57.83166666666664}"
      ]
     },
     "execution_count": 717,
     "metadata": {},
     "output_type": "execute_result"
    }
   ],
   "source": [
    "dist_ave = np.load('dist_ave.npy').item()\n",
    "dist_ave"
   ]
  },
  {
   "cell_type": "code",
   "execution_count": 960,
   "metadata": {
    "collapsed": false
   },
   "outputs": [],
   "source": [
    "# Function to make a new row\n",
    "def df_updater(df, name, date, time_of_day, distance, grade, prize, trap_no, position=np.nan, time = np.nan,\n",
    "              race_id = np.nan, comment = np.nan, odds = np.nan, going_allowance = np.nan, weight = np.nan,\n",
    "              time_trap = np.nan, random = np.nan, trainer = np.nan, update = False):\n",
    "    cols = ['date', 'datetime', 'distance', 'grade', 'prizes', 'trap_no']\n",
    "    \n",
    "    output_cols = ['name', 'grade', 'male','date', 'datetime', 'date_time', 'ave_dist_time', 'ave_time_per_dog_over_dist', \n",
    "                   'best_time_in_grade_currently', 'form_3', 'grade_dist_ave', 'grade_dist_ave_time_per_dog', 'positional_form_3', \n",
    "                   'mean_time_3_prev', 'new_exp_mean','positional_form_5', 'trend_3',  'trend_5',\n",
    "                   'distance', 'section_form_3', \n",
    "                   'first_prize', 'born', 'trainer', 'track']\n",
    "    \n",
    "    update_cols = ['position', 'time', 'race_id', 'comment', 'odds', 'going_allowance', 'weight', 'time_trap']\n",
    "    #new_cols = ['name'] + cols + update_cols\n",
    "    \n",
    "    new_cols = df.columns\n",
    "    \n",
    "    new_index = df.index.max()+1\n",
    "    new_df = False\n",
    "    try:\n",
    "        df2 = crayford_name_dict[name]\n",
    "        \n",
    "    except:\n",
    "        crayford_name_dict[name] = pd.DataFrame(columns=new_cols)\n",
    "        df2 = crayford_name_dict[name]\n",
    "        df2.loc[new_index] = np.nan\n",
    "        new_df = True\n",
    "    \n",
    "    df2.loc[new_index, 'name'] = name\n",
    "    df2.loc[new_index, cols] = date, time_of_day, distance, grade, prize, trap_no\n",
    "        \n",
    "        \n",
    "    \n",
    "    if update == True:\n",
    "        # Look for any conditional inputs to be filled in\n",
    "        if ((position == np.nan) & (time == np.nan) & (race_id == np.nan) & (comment == np.nan) \n",
    "            & (odds == np.nan) & (going_allowance == np.nan) & (weight == np.nan) & (time_trap == np.nan)):\n",
    "            pass\n",
    "        else:\n",
    "            # Change the output of the function\n",
    "           \n",
    "            # Update the conditional columns\n",
    "            #df2.loc[new_index, update_cols] = position, time, race_id, comment, odds, going_allowance, weight, time_trap\n",
    "            \n",
    "            df2.loc[new_index, 'position'] = position\n",
    "            df2.loc[new_index, 'time'] = time\n",
    "            df2.loc[new_index, 'race_id'] = race_id\n",
    "            df2.loc[new_index, 'comment'] = comment\n",
    "            df2.loc[new_index, 'odds'] = odds\n",
    "            df2.loc[new_index, 'going_allowance'] = going_allowance\n",
    "            df2.loc[new_index, 'weight'] = weight\n",
    "            df2.loc[new_index, 'time_trap'] = time_trap\n",
    "            df2.loc[new_index, 'trainer'] = trainer\n",
    "            \n",
    "            \n",
    "            # Fill in the Male column \n",
    "            if (random == 'd ') | (random == 'd'):\n",
    "                df2.loc[new_index, 'male'] = 1\n",
    "            elif (random == 'b ') | (random == 'b'):\n",
    "                df2.loc[new_index, 'male'] = 0\n",
    "            else:\n",
    "                pass\n",
    "    else:\n",
    "        pass\n",
    "    \n",
    "    if len(df2) == 1:\n",
    "        pass\n",
    "    else:\n",
    "        df2['male'] = df2['male'].fillna(method='ffill')\n",
    "        df2['trainer'] = df2['trainer'].fillna(method='ffill')\n",
    "        df2['born'] = df2['born'].fillna(method='ffill')\n",
    "    \n",
    "    \n",
    "    # Column transformed then converted to datetime\n",
    "    date_time = (' ').join([date, time_of_day])\n",
    "    if update == True:\n",
    "        date_time = pd.datetime.strptime(date_time, '%d/%m/%y %H:%M')\n",
    "    else:\n",
    "        try:\n",
    "            date_time = pd.datetime.strptime(date_time, '%d/%m/%Y %H:%M')\n",
    "        except:\n",
    "            date_time = pd.datetime.strptime(date_time, '%d/%m/%y %H:%M')\n",
    "    \n",
    "    df2.loc[new_index, 'date_time'] = date_time\n",
    "    #df2.loc[new_index, 'date_time'] = lambda x: pd.datetime.strptime(x, '%d/%m/%y %H:%M')\n",
    "    \n",
    "    # Make a column for First Prize so can use as a feature\n",
    "    \n",
    "    first_prize = (prize.split('1st ')[1][1:5]) if '1st' in prize else '0'\n",
    "    first_prize = int(first_prize.replace(',', '') if ',' in first_prize else first_prize)\n",
    "    df2.loc[new_index, 'first_prize'] = first_prize\n",
    "    df2.loc[new_index, 'prizes'] = prize\n",
    "    \n",
    "    # dist_ave column\n",
    "    try:\n",
    "        df2.loc[new_index, 'ave_dist_time'] = dist_ave[distance]\n",
    "    except:\n",
    "        pass\n",
    "    \n",
    "    #dist_ave_per_dog\n",
    "    \n",
    "    df2.loc[new_index, 'ave_time_per_dog_over_dist'] = meantime_per_dog_over_dist(distance, name)\n",
    "    \n",
    "    # grade_dist_ave column\n",
    "    grade_dist_ave = df.groupby(['distance', 'grade']).mean().time\n",
    "    try:\n",
    "        df2.loc[new_index, 'grade_dist_ave'] = grade_dist_ave[distance, grade]\n",
    "    except:\n",
    "        df2.loc[new_index, 'grade_dist_ave'] = np.nan\n",
    "    \n",
    "    # grade_dist_ave_per_dog\n",
    "    \n",
    "    try:\n",
    "        df2.loc[new_index, 'grade_dist_ave_time_per_dog'] = grade_dist_average_per_dog(distance, grade, name)\n",
    "    except:\n",
    "        pass\n",
    "    \n",
    "    # Best_time_in_grade\n",
    "    df2.loc[new_index, 'best_time_in_grade_currently'] = dog_best_time(date_time, grade, name)\n",
    "    \n",
    "    # Expanding Mean\n",
    "    df2.loc[new_index, 'new_exp_mean'] = exp_time(distance, name)\n",
    "    \n",
    "    # Mean_time_3-prev\n",
    "    df2.loc[new_index, 'mean_time_3_prev'] = rolling_time(distance, name)\n",
    "    df2.mean_time_3_prev =  df2.mean_time_3_prev.fillna(0)\n",
    "    \n",
    "    \n",
    "    if len(df2) > 1:\n",
    "        # Winning form\n",
    "        df2.loc[new_index, 'form_3'] = winning_form(name, 3)\n",
    "\n",
    "        #Positional Form 3\n",
    "        df2.loc[new_index, 'positional_form_3'] = positional_form_3(name)\n",
    "\n",
    "        #Positional Form 5\n",
    "        df2.loc[new_index, 'positional_form_5'] = positional_form_5(name)\n",
    "\n",
    "        #trend 3\n",
    "        df2.loc[new_index, 'trend_3'] = trend_describer(name, 'positional_form_3')\n",
    "\n",
    "        #trend 5\n",
    "        df2.loc[new_index, 'trend_5'] = trend_describer(name, 'positional_form_5')\n",
    "\n",
    "        #trend 5\n",
    "        df2.loc[new_index, 'section_form_3'] = section_form(name)\n",
    "    \n",
    "    # Now to append the row to main dataframe and have to think about when to do race_rating\n",
    "    \n",
    "    #df.loc[new_index] = df2.loc[new_index]\n",
    "    if update == True:\n",
    "        return df2.loc[new_index, output_cols + update_cols]\n",
    "    else:\n",
    "        return df2.loc[new_index, output_cols]\n",
    "    "
   ]
  },
  {
   "cell_type": "markdown",
   "metadata": {},
   "source": [
    "# Create the New Table function"
   ]
  },
  {
   "cell_type": "code",
   "execution_count": 710,
   "metadata": {
    "collapsed": true
   },
   "outputs": [],
   "source": [
    "def create_new_table(update_df, orig_df, update = True):\n",
    "    \n",
    "    for row in update_df.iterrows():\n",
    "        \n",
    "        name = row[1]['name']\n",
    "        date = row[1]['date'] \n",
    "        time_of_day = row[1]['datetime']\n",
    "        distance = row[1]['distance']\n",
    "        grade = row[1]['grade']\n",
    "        prize = row[1]['prizes'] \n",
    "        trap_no = row[1]['trap_no']\n",
    "        if update == True:\n",
    "            position = row[1]['position'] \n",
    "            time = row[1]['time']\n",
    "            race_id = row[1]['race_id'] \n",
    "            comment = row[1]['comment'] \n",
    "            odds = row[1]['odds']\n",
    "            going_allowance = row[1]['going_allowance']\n",
    "            weight = row[1]['weight']\n",
    "            trainer = row[1]['trainer']\n",
    "            try:\n",
    "                time_trap = row[1]['time_trap']\n",
    "            except:\n",
    "                pass\n",
    "            random = row[1]['random']\n",
    "        else:\n",
    "            pass\n",
    "        \n",
    "        if update == True:\n",
    "            orig_df = orig_df.append(df_updater(orig_df, name, date, time_of_day, distance, grade, prize, trap_no, position=position, time = time,\n",
    "                  race_id = race_id, comment = comment, odds = odds, going_allowance = going_allowance, weight = weight,\n",
    "                  time_trap = time_trap, random = random, trainer = trainer, update = True))\n",
    "        else:\n",
    "            orig_df = orig_df.append(df_updater(orig_df, name, date, time_of_day, distance, grade, prize, trap_no))\n",
    "                                 \n",
    "    return orig_df"
   ]
  },
  {
   "cell_type": "markdown",
   "metadata": {},
   "source": [
    "### Always Start with updating the dictionary as this can bias predictions otherwise"
   ]
  },
  {
   "cell_type": "code",
   "execution_count": null,
   "metadata": {
    "collapsed": true
   },
   "outputs": [],
   "source": [
    "# Save dog_name dictionary\n",
    "crayford_name_dict = {}\n",
    "for name in crayford.name.unique():\n",
    "    df = crayford.loc[crayford.name == name]\n",
    "    crayford_name_dict[name] = df\n",
    "\n",
    "# Then run the function on the table to be added in and the existing table\n",
    "crayford_to_predict = create_new_table(crayford_15_july_eve, crayford, update = False)"
   ]
  },
  {
   "cell_type": "markdown",
   "metadata": {
    "collapsed": true
   },
   "source": [
    "## There are some columns that I need to update after.\n",
    "\n",
    "**In the main this will be a column called \"race rating\".  This can only be done afterwards as it compares the recent best times of each greyhound at that grade or better for that particular race.  Therefore it cannot be attained on a row by row basis**"
   ]
  },
  {
   "cell_type": "code",
   "execution_count": 1011,
   "metadata": {
    "collapsed": false
   },
   "outputs": [],
   "source": [
    "# Make the day, hour and year columns\n",
    "crayford_to_predict['day'] = crayford_to_predict['date_time'].dt.weekday_name\n",
    "crayford_to_predict['hour'] = crayford_to_predict['date_time'].dt.hour\n",
    "crayford_to_predict['year'] = crayford_to_predict['date_time'].dt.year"
   ]
  },
  {
   "cell_type": "code",
   "execution_count": null,
   "metadata": {
    "collapsed": true
   },
   "outputs": [],
   "source": [
    "# Make a Series object to reference for race_rating.\n",
    "# This will group by each individual race according to the specific time the race is being run at\n",
    "mean_best_time = crayford_to_predicts.groupby(['date_time']).mean().best_time_in_grade_currently  \n",
    "mean_best_time"
   ]
  },
  {
   "cell_type": "code",
   "execution_count": 1012,
   "metadata": {
    "collapsed": true
   },
   "outputs": [],
   "source": [
    "# Define the function\n",
    "def race_rating(row):\n",
    "    rating = mean_best_time[row['date_time']] / row['grade_dist_ave']\n",
    "    return rating"
   ]
  },
  {
   "cell_type": "code",
   "execution_count": 1014,
   "metadata": {
    "collapsed": false
   },
   "outputs": [],
   "source": [
    "# Then apply the function\n",
    "crayford_to_predict.loc[16000:, 'race_rating'] = crayford_to_predict.loc[16000:].apply(race_rating, axis = 1)"
   ]
  },
  {
   "cell_type": "code",
   "execution_count": 1023,
   "metadata": {
    "collapsed": true
   },
   "outputs": [],
   "source": [
    "# Empty race ratings are filled with \"1\" as this would mean a \"standard\" race where we assume the greyhounds are all\n",
    "# correctly graded\n",
    "\n",
    "crayford_to_predict.race_rating = crayford_to_predict.race_rating.fillna(1)"
   ]
  },
  {
   "cell_type": "markdown",
   "metadata": {},
   "source": [
    "## Then fill in the remaining NaN values.\n",
    "\n",
    "This is something that could be done at the new dataframe updating stage and is something to improve for the future"
   ]
  },
  {
   "cell_type": "code",
   "execution_count": 1017,
   "metadata": {
    "collapsed": true
   },
   "outputs": [],
   "source": [
    "# Form and trend functions are filled with 0.  If there is no data then they will have \"0\" form or there will be \n",
    "# no existing trend\n",
    "\n",
    "crayford_to_predict.form_3 = crayford_to_predict.form_3.fillna(0)\n",
    "crayford_to_predict.trend_3 = crayford_to_predict.trend_3.fillna(0)\n",
    "crayford_to_predict.trend_5 = crayford_to_predict.trend_5.fillna(0)"
   ]
  },
  {
   "cell_type": "code",
   "execution_count": 1018,
   "metadata": {
    "collapsed": true
   },
   "outputs": [],
   "source": [
    "# Positional values I impute with \"6\" as this is the last position a greyhound could finish\n",
    "\n",
    "crayford_to_predict.positional_form_3 = crayford_to_predict.positional_form_3.fillna(6)\n",
    "crayford_to_predict.positional_form_5 = crayford_to_predict.positional_form_5.fillna(6)\n",
    "crayford_to_predict.section_form_3 = crayford_to_predict.section_form_3.fillna(6)"
   ]
  },
  {
   "cell_type": "code",
   "execution_count": 1019,
   "metadata": {
    "collapsed": true
   },
   "outputs": [],
   "source": [
    "# I impute the expanding mean NaNs with the grade distance average for that race\n",
    "crayford_to_predict.new_exp_mean = crayford_to_predict.new_exp_mean.fillna(crayford_to_predict.grade_dist_ave)"
   ]
  },
  {
   "cell_type": "code",
   "execution_count": 1020,
   "metadata": {
    "collapsed": false
   },
   "outputs": [],
   "source": [
    "# Mean time over teh last 3 races I impute with the expanding mean\n",
    "crayford_to_predict.loc[16000:, 'mean_time_3_prev'] = crayford_to_predict.loc[16000:, 'mean_time_3_prev'].map(lambda x: np.nan if x == 0 else x)\n",
    "crayford_to_predict.loc[16000:, 'mean_time_3_prev'] = crayford_to_predict.loc[16000:, 'mean_time_3_prev'].fillna(crayford_to_predict.new_exp_mean)"
   ]
  },
  {
   "cell_type": "code",
   "execution_count": 1039,
   "metadata": {
    "collapsed": false
   },
   "outputs": [
    {
     "data": {
      "text/plain": [
       "ave_racetime_over_dist         0\n",
       "ave_time_per_dog_over_dist     0\n",
       "distance                       0\n",
       "first_prize                    0\n",
       "form_3                         0\n",
       "grade                          0\n",
       "grade_dist_ave                 0\n",
       "grade_dist_ave_time_per_dog    0\n",
       "hour                           0\n",
       "male                           0\n",
       "mean_time_3_prev               0\n",
       "name                           0\n",
       "new_exp_mean                   0\n",
       "positional_form_3              0\n",
       "positional_form_5              0\n",
       "race_rating                    0\n",
       "section_form_3                 0\n",
       "trainer                        9\n",
       "trend_3                        0\n",
       "trend_5                        0\n",
       "dtype: int64"
      ]
     },
     "execution_count": 1039,
     "metadata": {},
     "output_type": "execute_result"
    }
   ],
   "source": [
    "crayford_to_predict[cols_to_model].isnull().sum()"
   ]
  },
  {
   "cell_type": "code",
   "execution_count": 1036,
   "metadata": {
    "collapsed": true
   },
   "outputs": [],
   "source": [
    "# Finally save to the database\n",
    "crayford_to_predict.to_sql('crayford_to_predict', engine)"
   ]
  },
  {
   "cell_type": "markdown",
   "metadata": {},
   "source": [
    "# Modelling\n",
    "\n",
    "Here I have run an xgboost regression model (vanilla) just to demostrate the achieveable prediction power at present"
   ]
  },
  {
   "cell_type": "code",
   "execution_count": 769,
   "metadata": {
    "collapsed": false
   },
   "outputs": [
    {
     "data": {
      "text/plain": [
       "[u'ave_racetime_over_dist',\n",
       " u'ave_time_per_dog_over_dist',\n",
       " u'distance',\n",
       " u'first_prize',\n",
       " u'form_3',\n",
       " u'grade',\n",
       " u'grade_dist_ave',\n",
       " u'grade_dist_ave_time_per_dog',\n",
       " u'hour',\n",
       " u'male',\n",
       " u'mean_time_3_prev',\n",
       " u'name',\n",
       " u'new_exp_mean',\n",
       " u'positional_form_3',\n",
       " u'positional_form_5',\n",
       " u'race_rating',\n",
       " u'section_form_3',\n",
       " u'trainer',\n",
       " u'trend_3',\n",
       " u'trend_5']"
      ]
     },
     "execution_count": 769,
     "metadata": {},
     "output_type": "execute_result"
    }
   ],
   "source": [
    "# There are some columns where the information will not be available beforehand.  I will remove these from the model\n",
    "\n",
    "cols_to_remove = ['Time', 'Position', 'Time_trap', 'Time_distance', 'Prizes', 'Date_time', 'age', 'competition',\n",
    "                  'best_time_in_grade_currently','Odds','Comment', 'Date', 'Winner', 'ave_dist_time',\n",
    "                   'Datetime', 'Random', 'Born', 'Year', 'day', 'track', 'dam', 'sire', 'mean_time_3', 'index',\n",
    "                 'expanding_mean', 'new_expanding_mean', 'section_position', 'section_winner', 'month', 'decimal_odds',\n",
    "                 'daily_win_ratio', 'ep', 'every_chance', 'mid', 'quick_away', 'race_id', 'rails', 'slow_away',\n",
    "                 'trap_1', 'trap_2', 'trap_3', 'trap_4', 'trap_5', 'trap_6', 'trap_no', 'weight', 'wide',\n",
    "                  'going_allowance', 'dnf']\n",
    "cols_to_remove = [f.lower() for f in cols_to_remove]\n",
    "cols_to_model = [c for c in crayford_to_predict.columns if c not in cols_to_remove]\n",
    "cols_to_model"
   ]
  },
  {
   "cell_type": "code",
   "execution_count": 513,
   "metadata": {
    "collapsed": false
   },
   "outputs": [
    {
     "name": "stderr",
     "output_type": "stream",
     "text": [
      "/Users/danielpayne/Anaconda/anaconda/lib/python2.7/site-packages/sklearn/cross_validation.py:44: DeprecationWarning: This module was deprecated in version 0.18 in favor of the model_selection module into which all the refactored classes and functions are moved. Also note that the interface of the new CV iterators are different from that of this module. This module will be removed in 0.20.\n",
      "  \"This module will be removed in 0.20.\", DeprecationWarning)\n"
     ]
    }
   ],
   "source": [
    "from sklearn.linear_model import LinearRegression, Ridge, Lasso, RidgeCV, LassoCV, ElasticNetCV, ElasticNet\n",
    "import patsy\n",
    "from sklearn.preprocessing import StandardScaler, LabelEncoder\n",
    "from sklearn.model_selection import train_test_split, GridSearchCV, cross_val_score, cross_val_predict\n",
    "import xgboost as xgb"
   ]
  },
  {
   "cell_type": "code",
   "execution_count": 773,
   "metadata": {
    "collapsed": true
   },
   "outputs": [],
   "source": [
    "# Fill in the time with a \"-1\" just so I can run through Patsy\n",
    "crayford_to_predict.time = crayford_to_predict.time.fillna(-1)"
   ]
  },
  {
   "cell_type": "code",
   "execution_count": 774,
   "metadata": {
    "collapsed": false
   },
   "outputs": [
    {
     "name": "stdout",
     "output_type": "stream",
     "text": [
      "(15762, 1532) (15762, 1) (15763, 68)\n"
     ]
    }
   ],
   "source": [
    "# Use Patsy to make design matrices\n",
    "formula  =  \"time ~ \" + ' + '.join(cols_to_model) + ' -1'\n",
    "\n",
    "y, X     =  patsy.dmatrices(formula, data=crayford_to_predict, return_type=\"dataframe\")\n",
    "\n",
    "# Check shape of features and targets as well as Years column\n",
    "print X.shape, y.shape, crayford_to_predict.shape"
   ]
  },
  {
   "cell_type": "code",
   "execution_count": 775,
   "metadata": {
    "collapsed": false
   },
   "outputs": [
    {
     "data": {
      "text/plain": [
       "array(['grade_A1', 'grade_A2', 'grade_A3', ..., 'section_form_3',\n",
       "       'trend_3', 'trend_5'], dtype=object)"
      ]
     },
     "execution_count": 775,
     "metadata": {},
     "output_type": "execute_result"
    }
   ],
   "source": [
    "# This is needed for xgboost as these elements cannot be in the column names\n",
    "X.columns = [a.replace('[', '_').replace(']', '') for a in X.columns]\n",
    "X.columns = [a.replace(\"'\", '').replace(' ', '_') for a in X.columns]\n",
    "X.columns = [a.replace(\".\", '_') for a in X.columns]\n",
    "X.columns.values"
   ]
  },
  {
   "cell_type": "code",
   "execution_count": 776,
   "metadata": {
    "collapsed": false
   },
   "outputs": [
    {
     "name": "stdout",
     "output_type": "stream",
     "text": [
      "(13636, 1532) (2127, 1532) (13636, 1) (2127, 1)\n"
     ]
    }
   ],
   "source": [
    "# Scale our data first and then split into training and test sets.\n",
    "\n",
    "#Scaling operation\n",
    "scaler =  StandardScaler()\n",
    "cols = X.columns\n",
    "X_index = X.index.values\n",
    "Xs =  scaler.fit_transform(X)\n",
    "X = pd.DataFrame(Xs, columns=cols, index = X_index)\n",
    "\n",
    "# Split the data in training and test sets. \n",
    "\n",
    "\n",
    "X_train = X.loc[:13635]\n",
    "X_test = X.loc[13635:]\n",
    "y_train = y.loc[:13635]\n",
    "y_test = y.loc[13635:]\n",
    "\n",
    "\n",
    "\n",
    "test_index = X_test.index.values\n",
    "\n",
    "print X_train.shape, X_test.shape, y_train.shape, y_test.shape"
   ]
  },
  {
   "cell_type": "code",
   "execution_count": 777,
   "metadata": {
    "collapsed": false
   },
   "outputs": [
    {
     "name": "stdout",
     "output_type": "stream",
     "text": [
      "(13636, 1532) (2127, 1532) (13636,) (2127,)\n"
     ]
    }
   ],
   "source": [
    "# Make target as a 1-d array\n",
    "\n",
    "y_train = y_train.time.values\n",
    "y_test = y_test.time.values\n",
    "\n",
    "print X_train.shape, X_test.shape, y_train.shape, y_test.shape"
   ]
  },
  {
   "cell_type": "markdown",
   "metadata": {},
   "source": [
    "## The score is a bit mis-leading here as there are '-1' values in the time column\n",
    "\n",
    "** See the graph below as this shows how accurately the predicted times can be against the true values.  The '-1' values can clearly be seen to the left of the \"y-axis\"**"
   ]
  },
  {
   "cell_type": "code",
   "execution_count": 778,
   "metadata": {
    "collapsed": false
   },
   "outputs": [
    {
     "name": "stdout",
     "output_type": "stream",
     "text": [
      "0.428326683494\n"
     ]
    }
   ],
   "source": [
    "xgb_model = xgb.XGBRegressor().fit(X_train, y_train)\n",
    "xgb_predictions = xgb_model.predict(X_test)\n",
    "xgb_score = xgb_model.score(X_test, y_test)\n",
    "\n",
    "print xgb_score"
   ]
  },
  {
   "cell_type": "code",
   "execution_count": 779,
   "metadata": {
    "collapsed": false
   },
   "outputs": [
    {
     "data": {
      "image/png": "[encoded data removed]",
      "text/plain": [
       "<matplotlib.figure.Figure at 0x11be532d0>"
      ]
     },
     "metadata": {
      "image/png": {
       "height": 280,
       "width": 382
      }
     },
     "output_type": "display_data"
    }
   ],
   "source": [
    "## The line / model\n",
    "plt.scatter(y_test, xgb_predictions)\n",
    "\n",
    "plt.xlabel(\"True Values\")\n",
    "plt.ylabel(\"Predictions\")\n",
    "plt.title(\"XG Boost Model\")\n",
    "plt.show()"
   ]
  },
  {
   "cell_type": "markdown",
   "metadata": {},
   "source": [
    "## Now rank those predicted times by race and hence predict the winner"
   ]
  },
  {
   "cell_type": "code",
   "execution_count": 536,
   "metadata": {
    "collapsed": true
   },
   "outputs": [],
   "source": [
    "# Define function to rank times\n",
    "\n",
    "def predict_pos(race, df, col_to_rank): \n",
    "    test_df = df.loc[df.date_time == race]\n",
    "    test_df['pred_position'] = test_df[col_to_rank].rank()\n",
    "    return test_df['pred_position']"
   ]
  },
  {
   "cell_type": "code",
   "execution_count": 791,
   "metadata": {
    "collapsed": false
   },
   "outputs": [
    {
     "name": "stdout",
     "output_type": "stream",
     "text": [
      "2127 2127\n"
     ]
    },
    {
     "name": "stderr",
     "output_type": "stream",
     "text": [
      "/Users/danielpayne/Anaconda/anaconda/lib/python2.7/site-packages/ipykernel/__main__.py:2: SettingWithCopyWarning: \n",
      "A value is trying to be set on a copy of a slice from a DataFrame.\n",
      "Try using .loc[row_indexer,col_indexer] = value instead\n",
      "\n",
      "See the caveats in the documentation: http://pandas.pydata.org/pandas-docs/stable/indexing.html#indexing-view-versus-copy\n",
      "  from ipykernel import kernelapp as app\n"
     ]
    }
   ],
   "source": [
    "# Check the length and make the predicted time column\n",
    "crayford_to_predict_test['predicted_time'] = xgb_predictions\n",
    "print len(crayford_to_predict_test), len(xgb_predictions)"
   ]
  },
  {
   "cell_type": "code",
   "execution_count": 792,
   "metadata": {
    "collapsed": false
   },
   "outputs": [
    {
     "name": "stderr",
     "output_type": "stream",
     "text": [
      "/Users/danielpayne/Anaconda/anaconda/lib/python2.7/site-packages/ipykernel/__main__.py:5: SettingWithCopyWarning: \n",
      "A value is trying to be set on a copy of a slice from a DataFrame.\n",
      "Try using .loc[row_indexer,col_indexer] = value instead\n",
      "\n",
      "See the caveats in the documentation: http://pandas.pydata.org/pandas-docs/stable/indexing.html#indexing-view-versus-copy\n"
     ]
    }
   ],
   "source": [
    "# Create a Series object of predicted positions of each race\n",
    "pred_pos = pd.Series()\n",
    "for race in crayford_to_predict_test.date_time.unique():\n",
    "    pred_pos = pred_pos.append(predict_pos(race, crayford_to_predict_test, 'predicted_time'))"
   ]
  },
  {
   "cell_type": "code",
   "execution_count": 793,
   "metadata": {
    "collapsed": false
   },
   "outputs": [
    {
     "name": "stderr",
     "output_type": "stream",
     "text": [
      "/Users/danielpayne/Anaconda/anaconda/lib/python2.7/site-packages/ipykernel/__main__.py:1: SettingWithCopyWarning: \n",
      "A value is trying to be set on a copy of a slice from a DataFrame.\n",
      "Try using .loc[row_indexer,col_indexer] = value instead\n",
      "\n",
      "See the caveats in the documentation: http://pandas.pydata.org/pandas-docs/stable/indexing.html#indexing-view-versus-copy\n",
      "  if __name__ == '__main__':\n",
      "/Users/danielpayne/Anaconda/anaconda/lib/python2.7/site-packages/ipykernel/__main__.py:2: SettingWithCopyWarning: \n",
      "A value is trying to be set on a copy of a slice from a DataFrame.\n",
      "Try using .loc[row_indexer,col_indexer] = value instead\n",
      "\n",
      "See the caveats in the documentation: http://pandas.pydata.org/pandas-docs/stable/indexing.html#indexing-view-versus-copy\n",
      "  from ipykernel import kernelapp as app\n"
     ]
    },
    {
     "data": {
      "text/html": [
       "<div>\n",
       "<style>\n",
       "    .dataframe thead tr:only-child th {\n",
       "        text-align: right;\n",
       "    }\n",
       "\n",
       "    .dataframe thead th {\n",
       "        text-align: left;\n",
       "    }\n",
       "\n",
       "    .dataframe tbody tr th {\n",
       "        vertical-align: top;\n",
       "    }\n",
       "</style>\n",
       "<table border=\"1\" class=\"dataframe\">\n",
       "  <thead>\n",
       "    <tr style=\"text-align: right;\">\n",
       "      <th></th>\n",
       "      <th>name</th>\n",
       "      <th>position</th>\n",
       "      <th>winner</th>\n",
       "      <th>pred_winner</th>\n",
       "    </tr>\n",
       "  </thead>\n",
       "  <tbody>\n",
       "    <tr>\n",
       "      <th>13635</th>\n",
       "      <td>Danny Paradise</td>\n",
       "      <td>3.0</td>\n",
       "      <td>0.0</td>\n",
       "      <td>0</td>\n",
       "    </tr>\n",
       "    <tr>\n",
       "      <th>13636</th>\n",
       "      <td>Snowdon Stevie</td>\n",
       "      <td>2.0</td>\n",
       "      <td>0.0</td>\n",
       "      <td>0</td>\n",
       "    </tr>\n",
       "    <tr>\n",
       "      <th>13637</th>\n",
       "      <td>Millbank Gale</td>\n",
       "      <td>1.0</td>\n",
       "      <td>1.0</td>\n",
       "      <td>1</td>\n",
       "    </tr>\n",
       "    <tr>\n",
       "      <th>13638</th>\n",
       "      <td>Clash Tenor</td>\n",
       "      <td>5.0</td>\n",
       "      <td>0.0</td>\n",
       "      <td>0</td>\n",
       "    </tr>\n",
       "    <tr>\n",
       "      <th>13639</th>\n",
       "      <td>Jet Stream Turbo</td>\n",
       "      <td>6.0</td>\n",
       "      <td>0.0</td>\n",
       "      <td>0</td>\n",
       "    </tr>\n",
       "    <tr>\n",
       "      <th>13640</th>\n",
       "      <td>Ajays Blazer</td>\n",
       "      <td>4.0</td>\n",
       "      <td>0.0</td>\n",
       "      <td>0</td>\n",
       "    </tr>\n",
       "  </tbody>\n",
       "</table>\n",
       "</div>"
      ],
      "text/plain": [
       "                   name  position  winner  pred_winner\n",
       "13635    Danny Paradise       3.0     0.0            0\n",
       "13636    Snowdon Stevie       2.0     0.0            0\n",
       "13637     Millbank Gale       1.0     1.0            1\n",
       "13638       Clash Tenor       5.0     0.0            0\n",
       "13639  Jet Stream Turbo       6.0     0.0            0\n",
       "13640      Ajays Blazer       4.0     0.0            0"
      ]
     },
     "execution_count": 793,
     "metadata": {},
     "output_type": "execute_result"
    }
   ],
   "source": [
    "# Create the predicted position and hence predicted winner column.\n",
    "# Then display first race\n",
    "\n",
    "crayford_to_predict_test['pred_position'] = pred_pos\n",
    "crayford_to_predict_test['pred_winner'] = crayford_to_predict_test.pred_position.map(lambda x: 1 if x == 1 else 0)\n",
    "crayford_to_predict_test[['name', 'position', 'winner', 'pred_winner']].head(6)"
   ]
  },
  {
   "cell_type": "markdown",
   "metadata": {},
   "source": [
    "## Plot the Confusion Matrix and print the Classification Report"
   ]
  },
  {
   "cell_type": "code",
   "execution_count": 555,
   "metadata": {
    "collapsed": true
   },
   "outputs": [],
   "source": [
    "# Function to plot a confusion matrix\n",
    "\n",
    "import itertools\n",
    "from sklearn import metrics\n",
    "\n",
    "def plot_confusion_matrix(cm, classes, title='Confusion matrix', cmap=plt.cm.Reds):\n",
    "    plt.imshow(cm, interpolation='nearest', cmap=cmap)\n",
    "    plt.title(title)\n",
    "    plt.colorbar()\n",
    "    tick_marks = np.arange(len(classes))\n",
    "    plt.xticks(tick_marks, classes, rotation=45)\n",
    "    plt.yticks(tick_marks, classes)\n",
    "    thresh = cm.max() / 2.\n",
    "    for i, j in itertools.product(range(cm.shape[0]), range(cm.shape[1])):\n",
    "        plt.text(j, i, cm[i, j],\n",
    "                 horizontalalignment=\"center\",\n",
    "                 color=\"white\" if cm[i, j] > thresh else \"black\")\n",
    "    plt.ylabel('True label')\n",
    "    plt.xlabel('Predicted label')\n",
    "    plt.show()"
   ]
  },
  {
   "cell_type": "code",
   "execution_count": 811,
   "metadata": {
    "collapsed": false
   },
   "outputs": [],
   "source": [
    "# Create a table showing results over teh last month\n",
    "month_test = doggy_test.loc[doggy_test.date_time > '20170615']"
   ]
  },
  {
   "cell_type": "code",
   "execution_count": 812,
   "metadata": {
    "collapsed": false
   },
   "outputs": [
    {
     "data": {
      "image/png": "[encoded data removed]",
      "text/plain": [
       "<matplotlib.figure.Figure at 0x118944710>"
      ]
     },
     "metadata": {
      "image/png": {
       "height": 287,
       "width": 319
      }
     },
     "output_type": "display_data"
    }
   ],
   "source": [
    "# Display the confustion matrix\n",
    "conmat = metrics.confusion_matrix(month_test.winner.values, month_test.pred_winner.values)\n",
    "classes = np.array([ 0.,  1.])\n",
    "plot_confusion_matrix(conmat, classes)"
   ]
  },
  {
   "cell_type": "code",
   "execution_count": 824,
   "metadata": {
    "collapsed": false
   },
   "outputs": [
    {
     "name": "stdout",
     "output_type": "stream",
     "text": [
      "             precision    recall  f1-score   support\n",
      "\n",
      "          0       0.89      0.90      0.89       910\n",
      "          1       0.49      0.49      0.49       191\n",
      "\n",
      "avg / total       0.82      0.82      0.82      1101\n",
      "\n"
     ]
    }
   ],
   "source": [
    "# Classification Report\n",
    "class_report = metrics.classification_report(month_test.winner.values, month_test.pred_winner.values)\n",
    "print class_report"
   ]
  },
  {
   "cell_type": "markdown",
   "metadata": {},
   "source": [
    "## There are race meets on Tuesday, Thursday, Friday and Saturday.\n",
    "\n",
    "Will compare the race meets in terms of precision"
   ]
  },
  {
   "cell_type": "code",
   "execution_count": 855,
   "metadata": {
    "collapsed": false
   },
   "outputs": [
    {
     "name": "stdout",
     "output_type": "stream",
     "text": [
      "The day is:\tFriday\n",
      "             precision    recall  f1-score   support\n",
      "\n",
      "          0       0.88      0.88      0.88       949\n",
      "          1       0.44      0.44      0.44       197\n",
      "\n",
      "avg / total       0.81      0.81      0.81      1146\n",
      "\n",
      "The day is:\tSaturday\n",
      "             precision    recall  f1-score   support\n",
      "\n",
      "          0       0.90      0.90      0.90      2275\n",
      "          1       0.51      0.50      0.50       475\n",
      "\n",
      "avg / total       0.83      0.83      0.83      2750\n",
      "\n",
      "The day is:\tTuesday\n",
      "             precision    recall  f1-score   support\n",
      "\n",
      "          0       0.90      0.90      0.90       965\n",
      "          1       0.50      0.49      0.50       200\n",
      "\n",
      "avg / total       0.83      0.83      0.83      1165\n",
      "\n",
      "The day is:\tThursday\n",
      "             precision    recall  f1-score   support\n",
      "\n",
      "          0       0.86      0.86      0.86       205\n",
      "          1       0.33      0.33      0.33        43\n",
      "\n",
      "avg / total       0.77      0.77      0.77       248\n",
      "\n"
     ]
    }
   ],
   "source": [
    "for day in doggy_test.day.unique():\n",
    "    df = doggy_test.loc[doggy_test.day == day]\n",
    "    class_report = metrics.classification_report(df.winner.values, df.pred_winner.values)\n",
    "    print 'The day is:\\t', day \n",
    "    print class_report"
   ]
  },
  {
   "cell_type": "markdown",
   "metadata": {},
   "source": [
    "### As there are two race on the Saturday, I will need to split these out\n",
    "\n",
    "I will make a small function to distinguish this and then print the results out for each race meeting"
   ]
  },
  {
   "cell_type": "code",
   "execution_count": 997,
   "metadata": {
    "collapsed": false
   },
   "outputs": [],
   "source": [
    "def race_meet(row):\n",
    "    if row['day'] == 'Tuesday':\n",
    "        return 'Tuesday'\n",
    "    elif row['day'] == 'Thursday':\n",
    "        return 'Thursday'\n",
    "    elif row['day'] == 'Friday':\n",
    "        return 'Friday'\n",
    "    elif (row['day'] == 'Saturday') & (row['hour'] < 15):\n",
    "        return 'Saturday AM'\n",
    "    elif (row['day'] == 'Saturday') & (row['hour'] > 15):\n",
    "        return 'Saturday PM'"
   ]
  },
  {
   "cell_type": "code",
   "execution_count": 998,
   "metadata": {
    "collapsed": true
   },
   "outputs": [],
   "source": [
    "# Make the column\n",
    "doggy_test['Meet'] = doggy_test.apply(race_meet, axis=1)"
   ]
  },
  {
   "cell_type": "code",
   "execution_count": 999,
   "metadata": {
    "collapsed": false
   },
   "outputs": [
    {
     "name": "stdout",
     "output_type": "stream",
     "text": [
      "The day is:\tFriday\n",
      "             precision    recall  f1-score   support\n",
      "\n",
      "          0       0.88      0.88      0.88       949\n",
      "          1       0.44      0.44      0.44       197\n",
      "\n",
      "avg / total       0.81      0.81      0.81      1146\n",
      "\n",
      "The day is:\tSaturday AM\n",
      "             precision    recall  f1-score   support\n",
      "\n",
      "          0       0.89      0.89      0.89      1740\n",
      "          1       0.47      0.47      0.47       360\n",
      "\n",
      "avg / total       0.82      0.82      0.82      2100\n",
      "\n",
      "The day is:\tSaturday PM\n",
      "             precision    recall  f1-score   support\n",
      "\n",
      "          0       0.91      0.92      0.92       535\n",
      "          1       0.62      0.60      0.61       115\n",
      "\n",
      "avg / total       0.86      0.86      0.86       650\n",
      "\n",
      "The day is:\tTuesday\n",
      "             precision    recall  f1-score   support\n",
      "\n",
      "          0       0.90      0.90      0.90       965\n",
      "          1       0.50      0.49      0.50       200\n",
      "\n",
      "avg / total       0.83      0.83      0.83      1165\n",
      "\n",
      "The day is:\tThursday\n",
      "             precision    recall  f1-score   support\n",
      "\n",
      "          0       0.86      0.86      0.86       205\n",
      "          1       0.33      0.33      0.33        43\n",
      "\n",
      "avg / total       0.77      0.77      0.77       248\n",
      "\n"
     ]
    }
   ],
   "source": [
    "# Make the classification report for each race meeting\n",
    "for meet in doggy_test.Meet.unique():\n",
    "    df = doggy_test.loc[doggy_test.Meet == meet]\n",
    "    class_report = metrics.classification_report(df.winner.values, df.pred_winner.values)\n",
    "    print 'The day is:\\t', meet \n",
    "    print class_report"
   ]
  },
  {
   "cell_type": "markdown",
   "metadata": {},
   "source": [
    "### A comparison by race distance"
   ]
  },
  {
   "cell_type": "code",
   "execution_count": 1000,
   "metadata": {
    "collapsed": false
   },
   "outputs": [
    {
     "name": "stdout",
     "output_type": "stream",
     "text": [
      "The day is:\t380.0\n",
      "             precision    recall  f1-score   support\n",
      "\n",
      "          0       0.89      0.89      0.89      3465\n",
      "          1       0.46      0.46      0.46       720\n",
      "\n",
      "avg / total       0.81      0.81      0.81      4185\n",
      "\n",
      "The day is:\t540.0\n",
      "             precision    recall  f1-score   support\n",
      "\n",
      "          0       0.90      0.90      0.90       750\n",
      "          1       0.54      0.54      0.54       158\n",
      "\n",
      "avg / total       0.84      0.84      0.84       908\n",
      "\n",
      "The day is:\t714.0\n",
      "             precision    recall  f1-score   support\n",
      "\n",
      "          0       0.92      0.93      0.93       169\n",
      "          1       0.65      0.63      0.64        35\n",
      "\n",
      "avg / total       0.88      0.88      0.88       204\n",
      "\n",
      "The day is:\t874.0\n",
      "             precision    recall  f1-score   support\n",
      "\n",
      "          0       1.00      1.00      1.00        10\n",
      "          1       1.00      1.00      1.00         2\n",
      "\n",
      "avg / total       1.00      1.00      1.00        12\n",
      "\n"
     ]
    }
   ],
   "source": [
    "for dist in doggy_test.distance.unique():\n",
    "    df = doggy_test.loc[doggy_test.distance == dist]\n",
    "    class_report = metrics.classification_report(df.winner.values, df.pred_winner.values)\n",
    "    print 'The day is:\\t', dist \n",
    "    print class_report"
   ]
  },
  {
   "cell_type": "markdown",
   "metadata": {},
   "source": [
    "### Finally a comparision by race grade"
   ]
  },
  {
   "cell_type": "code",
   "execution_count": 856,
   "metadata": {
    "collapsed": false,
    "scrolled": false
   },
   "outputs": [
    {
     "name": "stdout",
     "output_type": "stream",
     "text": [
      "The day is:\tA8\n",
      "             precision    recall  f1-score   support\n",
      "\n",
      "          0       0.87      0.87      0.87       780\n",
      "          1       0.37      0.37      0.37       163\n",
      "\n",
      "avg / total       0.78      0.78      0.78       943\n",
      "\n",
      "The day is:\tH2\n",
      "             precision    recall  f1-score   support\n",
      "\n",
      "          0       0.88      0.88      0.88        66\n",
      "          1       0.43      0.43      0.43        14\n",
      "\n",
      "avg / total       0.80      0.80      0.80        80\n",
      "\n",
      "The day is:\tA4\n",
      "             precision    recall  f1-score   support\n",
      "\n",
      "          0       0.88      0.88      0.88       308\n",
      "          1       0.41      0.41      0.41        64\n",
      "\n",
      "avg / total       0.80      0.80      0.80       372\n",
      "\n",
      "The day is:\tS7\n",
      "             precision    recall  f1-score   support\n",
      "\n",
      "          0       0.90      0.90      0.90       110\n",
      "          1       0.52      0.52      0.52        23\n",
      "\n",
      "avg / total       0.83      0.83      0.83       133\n",
      "\n",
      "The day is:\tA5\n",
      "             precision    recall  f1-score   support\n",
      "\n",
      "          0       0.90      0.91      0.91       503\n",
      "          1       0.55      0.54      0.54       104\n",
      "\n",
      "avg / total       0.84      0.85      0.84       607\n",
      "\n",
      "The day is:\tA7\n",
      "             precision    recall  f1-score   support\n",
      "\n",
      "          0       0.89      0.89      0.89       808\n",
      "          1       0.46      0.46      0.46       167\n",
      "\n",
      "avg / total       0.82      0.82      0.82       975\n",
      "\n",
      "The day is:\tE2\n",
      "             precision    recall  f1-score   support\n",
      "\n",
      "          0       0.91      0.91      0.91        58\n",
      "          1       0.58      0.58      0.58        12\n",
      "\n",
      "avg / total       0.86      0.86      0.86        70\n",
      "\n",
      "The day is:\tA6\n",
      "             precision    recall  f1-score   support\n",
      "\n",
      "          0       0.89      0.90      0.90       699\n",
      "          1       0.49      0.49      0.49       144\n",
      "\n",
      "avg / total       0.83      0.83      0.83       843\n",
      "\n",
      "The day is:\tS5\n",
      "             precision    recall  f1-score   support\n",
      "\n",
      "          0       0.88      0.88      0.88       152\n",
      "          1       0.44      0.44      0.44        32\n",
      "\n",
      "avg / total       0.80      0.80      0.80       184\n",
      "\n",
      "The day is:\tA2\n",
      "             precision    recall  f1-score   support\n",
      "\n",
      "          0       0.88      0.88      0.88        40\n",
      "          1       0.38      0.38      0.38         8\n",
      "\n",
      "avg / total       0.79      0.79      0.79        48\n",
      "\n",
      "The day is:\tA3\n",
      "             precision    recall  f1-score   support\n",
      "\n",
      "          0       0.89      0.89      0.89       126\n",
      "          1       0.48      0.48      0.48        27\n",
      "\n",
      "avg / total       0.82      0.82      0.82       153\n",
      "\n",
      "The day is:\tH3\n",
      "             precision    recall  f1-score   support\n",
      "\n",
      "          0       0.90      0.90      0.90        67\n",
      "          1       0.50      0.50      0.50        14\n",
      "\n",
      "avg / total       0.83      0.83      0.83        81\n",
      "\n",
      "The day is:\tS8\n",
      "             precision    recall  f1-score   support\n",
      "\n",
      "          0       0.95      0.95      0.95        65\n",
      "          1       0.77      0.77      0.77        13\n",
      "\n",
      "avg / total       0.92      0.92      0.92        78\n",
      "\n",
      "The day is:\tS6\n",
      "             precision    recall  f1-score   support\n",
      "\n",
      "          0       0.90      0.91      0.90       148\n",
      "          1       0.55      0.53      0.54        32\n",
      "\n",
      "avg / total       0.84      0.84      0.84       180\n",
      "\n",
      "The day is:\tS4\n",
      "             precision    recall  f1-score   support\n",
      "\n",
      "          0       0.91      0.91      0.91       122\n",
      "          1       0.58      0.58      0.58        26\n",
      "\n",
      "avg / total       0.85      0.85      0.85       148\n",
      "\n",
      "The day is:\tOR\n",
      "             precision    recall  f1-score   support\n",
      "\n",
      "          0       0.93      0.94      0.93       113\n",
      "          1       0.71      0.68      0.69        25\n",
      "\n",
      "avg / total       0.89      0.89      0.89       138\n",
      "\n",
      "The day is:\tS2\n",
      "             precision    recall  f1-score   support\n",
      "\n",
      "          0       0.94      0.94      0.94        35\n",
      "          1       0.71      0.71      0.71         7\n",
      "\n",
      "avg / total       0.90      0.90      0.90        42\n",
      "\n",
      "The day is:\tS3\n",
      "             precision    recall  f1-score   support\n",
      "\n",
      "          0       0.88      0.88      0.88        65\n",
      "          1       0.38      0.38      0.38        13\n",
      "\n",
      "avg / total       0.79      0.79      0.79        78\n",
      "\n",
      "The day is:\tA1\n",
      "             precision    recall  f1-score   support\n",
      "\n",
      "          0       0.95      0.95      0.95        20\n",
      "          1       0.75      0.75      0.75         4\n",
      "\n",
      "avg / total       0.92      0.92      0.92        24\n",
      "\n",
      "The day is:\tS1\n",
      "             precision    recall  f1-score   support\n",
      "\n",
      "          0       0.95      0.95      0.95        19\n",
      "          1       0.75      0.75      0.75         4\n",
      "\n",
      "avg / total       0.91      0.91      0.91        23\n",
      "\n",
      "The day is:\tE3\n",
      "             precision    recall  f1-score   support\n",
      "\n",
      "          0       0.90      0.92      0.91        49\n",
      "          1       0.56      0.50      0.53        10\n",
      "\n",
      "avg / total       0.84      0.85      0.84        59\n",
      "\n",
      "The day is:\tP3\n",
      "             precision    recall  f1-score   support\n",
      "\n",
      "          0       0.90      0.90      0.90        10\n",
      "          1       0.50      0.50      0.50         2\n",
      "\n",
      "avg / total       0.83      0.83      0.83        12\n",
      "\n",
      "The day is:\tH1\n",
      "             precision    recall  f1-score   support\n",
      "\n",
      "          0       0.95      0.95      0.95        21\n",
      "          1       0.80      0.80      0.80         5\n",
      "\n",
      "avg / total       0.92      0.92      0.92        26\n",
      "\n",
      "The day is:\tE1\n",
      "             precision    recall  f1-score   support\n",
      "\n",
      "          0       0.90      0.90      0.90        10\n",
      "          1       0.50      0.50      0.50         2\n",
      "\n",
      "avg / total       0.83      0.83      0.83        12\n",
      "\n"
     ]
    }
   ],
   "source": [
    "for day in doggy_test.grade.unique():\n",
    "    df = doggy_test.loc[doggy_test.grade == day]\n",
    "    class_report = metrics.classification_report(df.winner.values, df.pred_winner.values)\n",
    "    print 'The day is:\\t', day \n",
    "    print class_report"
   ]
  },
  {
   "cell_type": "code",
   "execution_count": null,
   "metadata": {
    "collapsed": true
   },
   "outputs": [],
   "source": []
  }
 ],
 "metadata": {
  "kernelspec": {
   "display_name": "Python 2",
   "language": "python",
   "name": "python2"
  },
  "language_info": {
   "codemirror_mode": {
    "name": "ipython",
    "version": 2
   },
   "file_extension": ".py",
   "mimetype": "text/x-python",
   "name": "python",
   "nbconvert_exporter": "python",
   "pygments_lexer": "ipython2",
   "version": "2.7.13"
  }
 },
 "nbformat": 4,
 "nbformat_minor": 2
}
